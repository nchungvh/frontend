{
 "cells": [
  {
   "cell_type": "code",
   "execution_count": 1,
   "metadata": {},
   "outputs": [],
   "source": [
    "import pandas\n",
    "org = pandas.read_csv('../organizations.csv')\n",
    "org = org[org['primary_role']=='company']\n",
    "#org = org[['name','category_list']]\n",
    "org = org[org['country_code']=='CHE']"
   ]
  },
  {
   "cell_type": "code",
   "execution_count": 2,
   "metadata": {},
   "outputs": [
    {
     "data": {
      "text/plain": [
       "Index(['uuid', 'name', 'type', 'permalink', 'cb_url', 'rank', 'created_at',\n",
       "       'updated_at', 'legal_name', 'roles', 'domain', 'homepage_url',\n",
       "       'country_code', 'state_code', 'region', 'city', 'address',\n",
       "       'postal_code', 'status', 'short_description', 'category_list',\n",
       "       'category_groups_list', 'num_funding_rounds', 'total_funding_usd',\n",
       "       'total_funding', 'total_funding_currency_code', 'founded_on',\n",
       "       'last_funding_on', 'closed_on', 'employee_count', 'email', 'phone',\n",
       "       'facebook_url', 'linkedin_url', 'twitter_url', 'logo_url', 'alias1',\n",
       "       'alias2', 'alias3', 'primary_role', 'num_exits'],\n",
       "      dtype='object')"
      ]
     },
     "execution_count": 2,
     "metadata": {},
     "output_type": "execute_result"
    }
   ],
   "source": [
    "org.columns"
   ]
  },
  {
   "cell_type": "code",
   "execution_count": 15,
   "metadata": {},
   "outputs": [],
   "source": [
    "cate = {}\n",
    "url = {}\n",
    "for index, line in org.iterrows():\n",
    "    if line['name'] in cate:\n",
    "        continue\n",
    "    url[line['name']] = line['homepage_url']\n",
    "    cate[line['name']] = line['category_groups_list']\n",
    "for i in url:\n",
    "    if pandas.isna(url[i]):\n",
    "        url[i] = 'nothing'\n",
    "for i in cate:\n",
    "    if pandas.isna(cate[i]):\n",
    "        cate[i] = 'nothing'\n",
    "    cate[i] = cate[i].split(',')"
   ]
  },
  {
   "cell_type": "code",
   "execution_count": 1,
   "metadata": {},
   "outputs": [],
   "source": [
    "# preprocess taxonomy tree with filtered entities\n",
    "import json\n",
    "tree = json.load(open('tree_cate.json', encoding = 'utf8'))\n",
    "efil = json.load(open('entity_filtered.json', encoding = 'utf8'))"
   ]
  },
  {
   "cell_type": "code",
   "execution_count": 2,
   "metadata": {},
   "outputs": [
    {
     "data": {
      "text/plain": [
       "221340"
      ]
     },
     "execution_count": 2,
     "metadata": {},
     "output_type": "execute_result"
    }
   ],
   "source": [
    "len(tree)"
   ]
  },
  {
   "cell_type": "code",
   "execution_count": 7,
   "metadata": {},
   "outputs": [
    {
     "data": {
      "application/vnd.jupyter.widget-view+json": {
       "model_id": "67a8b523a5444860b148918cdb72f4f2",
       "version_major": 2,
       "version_minor": 0
      },
      "text/plain": [
       "HBox(children=(HTML(value=''), FloatProgress(value=0.0, max=221340.0), HTML(value='')))"
      ]
     },
     "metadata": {},
     "output_type": "display_data"
    },
    {
     "name": "stdout",
     "output_type": "stream",
     "text": [
      "\n"
     ]
    }
   ],
   "source": [
    "filtered_tree = {}\n",
    "from tqdm.notebook import tqdm\n",
    "for ent in tqdm(tree):\n",
    "    if ent in efil:\n",
    "        filtered_tree[ent] = tree[ent]\n",
    "    elif len(list(set(efil).intersection(set(tree[ent])))) > 0:\n",
    "        filtered_tree[ent] = tree[ent]\n",
    "    else:\n",
    "        continue"
   ]
  },
  {
   "cell_type": "code",
   "execution_count": 18,
   "metadata": {
    "scrolled": true
   },
   "outputs": [
    {
     "name": "stdout",
     "output_type": "stream",
     "text": [
      "arts\n",
      "rover\n",
      "tops\n",
      "piping\n",
      "metalworking\n",
      "reconnaissance aircraft\n",
      "watercraft\n",
      "metallurgy\n",
      "asterisk (pbx)\n",
      "wind power\n",
      "solar power\n",
      "mips technologies\n",
      "fighter aircraft\n",
      "character encoding\n",
      "bea systems\n",
      "data analysis\n",
      "telecommunications engineering\n",
      "marine propulsion\n",
      "walter aircraft engines\n",
      "electric fish\n",
      "espionage\n",
      "electronic publishing\n",
      "military transport aircraft\n",
      "uranium mining\n",
      "linn products\n",
      "private spaceflight\n",
      "mechanical engineering\n",
      "spacex rocket engines\n",
      "power architecture\n",
      "digital television\n",
      "anti-nuclear movement\n",
      "spacecraft\n",
      "bae systems\n",
      "process engineering\n",
      "squid\n",
      "configuration management\n",
      "wehrmacht\n",
      "online journalism\n",
      "power control\n",
      "accessibility\n",
      "lockheed c-130 hercules\n",
      "digital art\n",
      "magnetism\n",
      "electronic design automation\n",
      "information retrieval\n",
      "jet aircraft\n",
      "amber\n",
      "cyberwarfare\n",
      "e-commerce\n",
      "artificial intelligence\n",
      "associated electrical industries\n",
      "communication design\n",
      "general aviation\n",
      "holography\n",
      "peer-to-peer\n",
      "software engineering\n",
      "texas instruments\n",
      "imperial chemical industries\n",
      "medical equipment\n",
      "gundam\n",
      "tailless aircraft\n",
      "gliding\n",
      "interferometry\n",
      "stop motion\n",
      "nuclear propulsion\n",
      "spacecraft propulsion\n",
      "military science\n",
      "merlin\n",
      "mass surveillance\n",
      "computer animation\n",
      "video\n",
      "oats\n",
      "superconductivity\n",
      "distributed computing\n",
      "smart communications\n",
      "access control\n",
      "soft matter\n",
      "naval artillery\n",
      "technical communication\n",
      "cell signaling\n",
      "fax\n",
      "analytical chemistry\n",
      "military intelligence\n",
      "internet access\n",
      "voice over ip\n",
      "signal transduction\n",
      "surround sound\n",
      "industrial engineering\n",
      "machine translation\n",
      "color space\n",
      "automated guideway transit\n",
      "data processing\n",
      "networking hardware\n",
      "civil defense\n",
      "bittorrent\n",
      "genetic engineering\n",
      "enterprise modelling\n",
      "staff (military)\n",
      "rotorcraft\n",
      "consolidated aircraft\n",
      "passive fire protection\n",
      "electronic waste\n",
      "tandem mass spectrometry\n",
      "forming processes\n",
      "counter-terrorism\n",
      "telenor\n",
      "bioinorganic chemistry\n",
      "financial technology\n",
      "command and control\n",
      "bbc radio\n",
      "electric aircraft\n",
      "project nike\n",
      "structural system\n",
      "scheduling (computing)\n",
      "nasa\n",
      "parallel computing\n",
      "semiconductor device fabrication\n",
      "silicon\n",
      "speech processing\n",
      "telephony\n",
      "radio control\n",
      "westland aircraft\n",
      "network architecture\n",
      "internet marketing\n",
      "identity management\n",
      "educational technology\n",
      "electric power distribution\n",
      "cyberpunk\n",
      "high-speed craft\n",
      "military engineering\n",
      "sikorsky aircraft\n",
      "cyclades\n",
      "digital preservation\n",
      "silk\n",
      "technical intelligence\n",
      "electronic dance music\n",
      "musical tuning\n",
      "trainer aircraft\n",
      "robotech\n",
      "textile industry\n",
      "film production\n",
      "marine engineering\n",
      "aircraft ground handling\n",
      "electron\n",
      "synchrotron radiation\n"
     ]
    }
   ],
   "source": [
    "temp = {}\n",
    "for cate in filtered_tree:\n",
    "    if len(list(set(efil).intersection(set(tree[cate])))) == 0:\n",
    "        print(cate)\n",
    "    else:\n",
    "        temp[cate] = list(set(efil).intersection(set(tree[cate])))"
   ]
  },
  {
   "cell_type": "code",
   "execution_count": 20,
   "metadata": {},
   "outputs": [
    {
     "data": {
      "text/plain": [
       "7438"
      ]
     },
     "execution_count": 20,
     "metadata": {},
     "output_type": "execute_result"
    }
   ],
   "source": [
    "len(filtered_tree)"
   ]
  },
  {
   "cell_type": "code",
   "execution_count": 22,
   "metadata": {},
   "outputs": [],
   "source": [
    "with open('entity_filtered.json', 'w', encoding = 'utf8') as f:\n",
    "    json.dump(temp, f)"
   ]
  },
  {
   "cell_type": "code",
   "execution_count": 21,
   "metadata": {},
   "outputs": [
    {
     "data": {
      "text/plain": [
       "['restricted boltzmann machine',\n",
       " 'multilayer perceptron',\n",
       " 'backpropagation',\n",
       " 'multimodal learning',\n",
       " 'cellular neural network',\n",
       " 'boltzmann machine',\n",
       " 'synaptic weight',\n",
       " 'recurrent neural network',\n",
       " 'self-organizing map',\n",
       " 'feedforward neural network',\n",
       " 'reservoir computing',\n",
       " 'infomax',\n",
       " 'long short-term memory',\n",
       " 'artificial neural network',\n",
       " 'activation function',\n",
       " 'deep learning',\n",
       " 'radial basis function network',\n",
       " 'quantum neural network',\n",
       " 'spiking neural network',\n",
       " 'convolutional neural network',\n",
       " 'rectifier (neural networks)',\n",
       " 'artificial neuron']"
      ]
     },
     "execution_count": 21,
     "metadata": {},
     "output_type": "execute_result"
    }
   ],
   "source": [
    "temp['artificial neural networks']"
   ]
  },
  {
   "cell_type": "code",
   "execution_count": null,
   "metadata": {},
   "outputs": [],
   "source": []
  }
 ],
 "metadata": {
  "kernelspec": {
   "display_name": "Python 3",
   "language": "python",
   "name": "python3"
  },
  "language_info": {
   "codemirror_mode": {
    "name": "ipython",
    "version": 3
   },
   "file_extension": ".py",
   "mimetype": "text/x-python",
   "name": "python",
   "nbconvert_exporter": "python",
   "pygments_lexer": "ipython3",
   "version": "3.8.5"
  }
 },
 "nbformat": 4,
 "nbformat_minor": 4
}
