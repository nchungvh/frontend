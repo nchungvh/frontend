{
 "cells": [
  {
   "cell_type": "code",
   "execution_count": 1,
   "metadata": {},
   "outputs": [],
   "source": [
    "import pandas as pd\n",
    "import numpy as np"
   ]
  },
  {
   "cell_type": "code",
   "execution_count": 2,
   "metadata": {},
   "outputs": [],
   "source": [
    "df = pd.read_csv('./layer1_epochs5_embeddings.tsv', sep=\"\\t\")"
   ]
  },
  {
   "cell_type": "code",
   "execution_count": 3,
   "metadata": {},
   "outputs": [],
   "source": [
    "embeddings = df.values"
   ]
  },
  {
   "cell_type": "code",
   "execution_count": 4,
   "metadata": {},
   "outputs": [
    {
     "data": {
      "text/plain": [
       "array([[ 0.0413014 ,  0.07620369, -0.08266669, ..., -0.05986213,\n",
       "        -0.12585197,  0.02868473],\n",
       "       [ 0.06418569, -0.00510147, -0.22636913, ...,  0.02930722,\n",
       "        -0.08669644, -0.00359727],\n",
       "       [-0.03218125, -0.0368826 , -0.07458428, ...,  0.02063249,\n",
       "        -0.11124723,  0.135269  ],\n",
       "       ...,\n",
       "       [-0.08988336,  0.05846654,  0.28417811, ..., -0.07122824,\n",
       "         0.11662735, -0.05540368],\n",
       "       [-0.03198629, -0.08042897,  0.30181399, ...,  0.02657035,\n",
       "         0.07493703, -0.09416394],\n",
       "       [-0.01296092,  0.0900521 ,  0.18922479, ...,  0.0030656 ,\n",
       "         0.07690855,  0.03299321]])"
      ]
     },
     "execution_count": 4,
     "metadata": {},
     "output_type": "execute_result"
    }
   ],
   "source": [
    "embeddings"
   ]
  },
  {
   "cell_type": "code",
   "execution_count": 5,
   "metadata": {},
   "outputs": [],
   "source": [
    "df = pd.read_csv('./layer1_epochs5_meta.tsv', sep=\"\\t\")"
   ]
  },
  {
   "cell_type": "code",
   "execution_count": 6,
   "metadata": {},
   "outputs": [],
   "source": [
    "types = df.values[:,0]\n",
    "names = df.values[:,1]"
   ]
  },
  {
   "cell_type": "code",
   "execution_count": 7,
   "metadata": {},
   "outputs": [
    {
     "data": {
      "text/plain": [
       "array(['Roche', 'Sophia Genetics',\n",
       "       'Johnson & Johnson Family of Companies', 'Amaris', 'Wabtec',\n",
       "       'Spring Professional', 'MIACAR', 'ITech Consult', 'Siemens AG',\n",
       "       'Philip Morris International', 'ETH Zurich', 'Abbott Laboratories',\n",
       "       'Jabil Circuit', 'Helvetia Versicherungen', 'Syngenta',\n",
       "       'RSR EMEA Internal', 'ABB', 'Vorwerk', 'Experis',\n",
       "       'Université de Fribourg', 'Zurich Insurance Group',\n",
       "       'Universität Bern Universität Bern', 'United Nations',\n",
       "       'Kelly Services', 'UNITAR', 'CERN', 'EF Education First', 'Biogen',\n",
       "       'Lonza', 'DSM', 'University of Lugano (USI)',\n",
       "       'Randstad Professionals', 'Zimmer Biomet',\n",
       "       'EM Microelectronic-Marin Ltd', 'Universität Bern',\n",
       "       'Consultys - Life Sciences Experts', 'Danaher',\n",
       "       'Helvetica Partners', 'Novastone Capital Advisors', 'MyCamper AG',\n",
       "       'IFRC', 'Syderal Swiss SA', 'EMEA - BD', 'JLL',\n",
       "       'Universität Basel', 'Manpower', 'KPMG', 'Global Personal Partner',\n",
       "       'Randstad', 'Straumann Group', 'Takeda Pharmaceuticals',\n",
       "       'International Telecommunication Union (ITU)', 'Proclinical',\n",
       "       'IBKR', 'Nord Anglia Education', 'British American Tobacco',\n",
       "       'Baxter International', 'coty', 'Mammut Sports Group AG',\n",
       "       'Badenoch + Clark', 'Bristol-Myers Squibb', 'PICTET',\n",
       "       'SIB Swiss Institute of Bioinformatics', 'INSELSPITAL',\n",
       "       'BioTalent', 'University of Basel', 'additiv AG',\n",
       "       'Varian Medical Systems International AG', 'AKKA TECHNOLOGIES',\n",
       "       'Department of Chemistry', 'RETAIL Experts', 'Hugo Boss', 'Elemed',\n",
       "       'Groupe Kering', 'myitjob', 'University of Bern',\n",
       "       'Hotel Maya Caprice', 'SWISSFLEX MICROELECTRONICS SARL',\n",
       "       'Swiss AviationSoftware', 'Wipro LTD', 'Argyll Scott', 'PepsiCo',\n",
       "       'Alten', 'Idiap Research Institute', 'Paul Scherrer Institut',\n",
       "       'Carbon60', 'Eidgenossische Technische Hochschule Zürich, ETHZ',\n",
       "       'Datalynx AG', 'FedEx Express EU', 'VMware Sales',\n",
       "       'VF Corporation', 'Swiss Timing LTD', 'JTI', 'Darwin Recruitment',\n",
       "       'PILATUS Flugzeugwerke AG', 'Paul Scherrer Institut Villigen',\n",
       "       'worldline', 'Epredia', 'Unil', 'Blackstone Group',\n",
       "       'Institut Le Rosey', 'Caterpillar', 'SCOTT SPORTS',\n",
       "       'Neustar, Inc.', 'Novartis', 'ELCA', 'Kudelski SA', 'Altran',\n",
       "       'Nexstar Broadcasting', 'World Health Organization',\n",
       "       'MSD International GmbH', 'Church & Dwight', 'Red Hat Software',\n",
       "       'Redstone Search Group', 'Drugs for Neglected Diseases Initiative',\n",
       "       'Alcoa Corporation', 'MSC Cruises', 'Meggitt',\n",
       "       'Environmental Chemistry Group', 'GSK', 'Michael Page',\n",
       "       'Electronic Search, Inc.', \"Tech'Firm Industrie AG\",\n",
       "       'Decision Science Laboratory (DeSciL)',\n",
       "       'Kinder Nannies & Staff Ltd.', 'Parrot', 'Sika Corporation',\n",
       "       'Holy Fashion Group', 'University of Lausanne', 'Hobson Prior',\n",
       "       'Honeywell', 'CTC Resourcing Solutions', 'Connect 44 AG', 'SpotMe',\n",
       "       'ETEL', 'Colgate-Palmolive', 'TransPerfect', 'Deutsche Börse',\n",
       "       'United Nations Development Programme (UNDP)', 'EY', 'Tecan',\n",
       "       'MSF International', 'CSEM SA', 'Viking', 'Cabot Microelectronics',\n",
       "       'Nespresso', 'Johnson Controls', 'ThomasLloyd Group',\n",
       "       'The Coca Cola Company', 'Check Point Software Technologies Ltd.',\n",
       "       'HaslerRail AG', 'Credit Suisse', 'SITA', 'Swiss TPH', 'sandsiv',\n",
       "       'maierhofer schweiz AG', 'On AG', 'KPMG AG', 'LivaNova',\n",
       "       'United Nations High Commissioner for Refugees (UNHCR)',\n",
       "       'The Estée Lauder Companies', 'Coopers Group AG', 'DJO',\n",
       "       'uniqFEED AG', 'Alpiq', 'EPFL', 'ALPADIA Language Schools SA',\n",
       "       'Institute for Ecopreneurship - FHNW', 'EnviroPorts',\n",
       "       'lastminute.com', 'SAP', 'Zühlke', 'Firmenich',\n",
       "       'Flowserve Corporation', 'H+O communications Ltd.',\n",
       "       'The North Face', 'EURO', 'Credit Suisse Campus',\n",
       "       'Gavi, the Vaccine Alliance Secretariat', 'Global Jet',\n",
       "       'Chair of Earth Observation and Remote Sensing', 'bluebird bio',\n",
       "       'Case New Holland Industrial', 'The Global Fund', 'Smallpdf',\n",
       "       'Vf International', 'Grand Hotel des Bains Kempinski St. Moritz',\n",
       "       'Terex Corporation',\n",
       "       'International Federation of Red Cross and Red Crescent Societies',\n",
       "       'Georg Fischer Piping Systems Ltd', 'Partners Group', 'citizenM',\n",
       "       'Beaulieu Enterprises Ltd', 'Swissquote', 'Mac Solutions SA',\n",
       "       'Nestlé Waters', 'Sulzer', 'Kuehne + Nagel',\n",
       "       'InterContinental Hotels', 'EPAM Systems', 'GE Renewable Energy',\n",
       "       'International Bridges to Justice',\n",
       "       'École Polytechnique Fédérale de Lausanne (EPFL)',\n",
       "       'Page Personnel', 'HUBER+SUHNER', 'Salesforce', 'Washington Frank',\n",
       "       'Merck KGaA', 'greenTEG AG', 'Givaudan',\n",
       "       'Friedrich Miescher Institute', 'CyberI', 'Eawag', 'ALTOGEN AG',\n",
       "       'Alpiq AG', 'Ferring Pharmaceuticals, Inc.', 'Kopter Group AG',\n",
       "       'Interiman', 'The University Hospital Zurich',\n",
       "       'Thermo Fisher Scientific', 'MasonBreese Switzerland GmbH', 'PwC',\n",
       "       'Polymetrix AG', 'BRP', 'Mirabaud', 'Teva Pharmaceuticals',\n",
       "       'SRC recrutement',\n",
       "       'The Institute for Atmospheric and Climate Science', 'nemensis ag',\n",
       "       'World Economic Forum LLC',\n",
       "       'Department of Mechanical and Process Engineering', 'Adecco',\n",
       "       'The IT Guys Sàrl', 'Meese Inc.', 'Sygnum Bank AG',\n",
       "       'Chiquita Brands International Sàrl', 'VFC', 'Microsoft',\n",
       "       'Foreign & Commonwealth Office', 'AMETEK, Inc.',\n",
       "       'Federation Equestre Internationale', 'Bio-Rad Laboratories, Inc.',\n",
       "       'Jet Aviation AG', 'SCS Solutions', 'Quanta', 'Oerlikon', 'Hays',\n",
       "       'Ikea', 'Aston Life Sciences',\n",
       "       'Department of Quantitative Biomedicine', 'Unilabs',\n",
       "       'Pharma Quality Europe', 'NCD Alliance', 'Tamedia', 'WayRay',\n",
       "       'Swiss Re', \"L'OCCITANE en provence\", 'ProtonMail', 'Huntsman',\n",
       "       'Société Générale', 'LafargeHolcim', 'Oxford Global Resources',\n",
       "       'Edwards Lifesciences', 'Tetra Pak', 'Pickwings AG', 'emergent',\n",
       "       'Department of Biosystems Science and Engineering', 'SenseFly',\n",
       "       'European Respiratory Society', 'Taskbase',\n",
       "       'Michael Bailey Associates - UK Contracts', 'TripAdvisor',\n",
       "       'Cargill', 'Flyability', 'Locatee AG', 'GSI Consultants',\n",
       "       'STMicroelectronics', 'Global Supply Chain Finance Ltd.',\n",
       "       'RecSel International Ltd', 'YouTube', 'interxion',\n",
       "       'Turner & Townsend', 'Mainspring Resourcing',\n",
       "       'Redstone Private Banking', 'Estée Lauder', 'ALSTOM', 'BD',\n",
       "       'Work & Work SA', 'iET SA', 'Sicpa', 'TAG Heuer', 'Nestlé',\n",
       "       'Octapharma', 'Harvey Nash AG', 'Oliver James Associates',\n",
       "       'JP Morgan Chase', 'COMET Group', 'vf', 'MRP Global',\n",
       "       'Markem-Imaje', 'Clariant', 'Intertrust', 'IKEA', 'Salt Mobile',\n",
       "       'KVALITO Consulting Group', 'Batterman Consulting Basel AG',\n",
       "       'Accenture', 'Fachhochschule Nordwestschweiz FHNW',\n",
       "       'Web3 Foundation', 'Arviem AG', 'Alnylam', 'Avaloq',\n",
       "       'British Council', 'Schindler', 'La Prairie Group', 'Apple', 'UBS',\n",
       "       'Coopers Group GmbH', 'Numab Therapeutics AG', 'GF Precicast SA',\n",
       "       'Mettler Toledo', 'decentriq', 'Meditrial Europe Ltd.',\n",
       "       'sanu future learning ag', 'Semtech', 'Onedot',\n",
       "       'Avrios International AG', 'Frag2000', 'Wipro Limited',\n",
       "       'Pertemps Network Group', 'Jabil', 'Archilogic AG', 'WWF Schweiz',\n",
       "       'Médecins Sans Frontières Suisse', 'FPT Motorenforschung AG',\n",
       "       'Agility Logistics', 'INTERNATIONAL OLYMPIC COMMITTEE',\n",
       "       'University of Zurich', 'DKSH', 'Timberland', 'Fortinet',\n",
       "       'The Coca-Cola Company', 'Fincons Spa', 'KJUS', '3Brain AG',\n",
       "       'Medela LLC', 'LALIVE', 'Forrester Research', 'Incyte Corporation',\n",
       "       'myfuturerole.com', 'Fly 7 Executive Aviation SA',\n",
       "       'Corteva Agriscience', 'Aspreva Pharmaceuticals',\n",
       "       'Medepro International', 'IBM Zurich Research Laboratory',\n",
       "       'Unisys', 'Bank For International Settlements',\n",
       "       'Leica Geosystems AG - Part of Hexagon', 'Validity Labs AG',\n",
       "       'Cognitive Solutions AG', 'Fusion Partners',\n",
       "       'Department of Environmental Systems Science', 'Sigma',\n",
       "       'World Intellectual Property Organization',\n",
       "       'Lunaphore Technologies', 'KATARSYS', 'Expense Robot',\n",
       "       'Pitcher AG', 'Seabed Geosolutions', 'Universität St.Gallen',\n",
       "       'Swisslog', 'beqom', 'Consortia Recruitment Partners', 'Lafarge',\n",
       "       'Cognizant', 'ActiveUnited Nations Development Programme (UNDP)',\n",
       "       'Audemars Piguet', 'Ginosi Apartels and Hotels', 'Vifor Pharma',\n",
       "       'Electronic Arts', 'Advanced Sterilization Products',\n",
       "       'Open Systems AG', 'VARO Energy', 'Leica Microsystems',\n",
       "       'Global Blood Therapeutics, Inc. (GBT)', 'River Advice AG',\n",
       "       'Ovivo Switzerland', 'GlobalLogic Switzerland Ltd',\n",
       "       'Institute of Geodesy and Photogrammetry', 'Hamilton Company',\n",
       "       'T.V.T Marine Automation Company', 'Celgene', 'Bachem',\n",
       "       'Yodea Recrutement', 'Medacta International SA',\n",
       "       'Automatic Control Laboratory', 'Deloitte', 'Enterprise Bot',\n",
       "       'Friedrich Miescher Institute for Biomedical Research',\n",
       "       'IRsweep AG', 'vfc', 'Johnson Electric', 'Covance', 'Oracle',\n",
       "       'Huber Event Promotion GmbH', 'Intuitive', 'Novo Nordisk',\n",
       "       'LAR Ventures Limited', '1Drop Diagnostics', 'SimplyVision GmbH',\n",
       "       'Genioo', 'HELVETAS Swiss Intercooperation', 'Bayer',\n",
       "       'Resource Group', 'Trapeze Group Limited',\n",
       "       'AWS EMEA SARL (Switzerland)', 'MIACAR AG',\n",
       "       'Multidisciplinary Digital Publishing Institute (MDPI)', 'Stryker',\n",
       "       'CordenPharma', 'Hexagon Technology Center GmbH',\n",
       "       'Emergent Biosolutions',\n",
       "       'Chair of Intelligent Maintenance Systems',\n",
       "       'Steinhem direct search', 'Magnolia International Ltd.', 'Schawk',\n",
       "       'SIDLER SA', 'PROMATIS software GmbH', 'Myra Medical sarl',\n",
       "       'CA Indosuez Wealth (Group)', 'sgsco', 'Meditrina Talent',\n",
       "       'VAT \\u200bVakuumventile', 'nicole.prokop@infosys.com', 'Masimo',\n",
       "       'Drug Information Association Inc', 'Nonstop Recruitment Careers',\n",
       "       'Weekday', 'University of Fribourg', 'AXPO', 'PATH',\n",
       "       'Institute for Regenerative Medicine - IREM',\n",
       "       'Uniworld / GRC Global River Cruises GmbH', 'McKinsey & Company',\n",
       "       'Cisco Systems', 'Avrios', 'Belimed', 'GE Healthcare', 'AECOM',\n",
       "       'Corning', 'Sandoz', 'BOARD International SA', 'Fresenius Kabi',\n",
       "       'Tiffany & Company', 'Badenoch & Clark', 'TE Connectivity',\n",
       "       'AXIS Insurance', 'Stamford Consultants AG', 'HELVET HEALTH',\n",
       "       'Thomson Reuters', 'CK Group', 'Total', 'Marco Fuhrer',\n",
       "       'eTeam Inc.', 'Mister Hire', 'OMYA Industries, Inc.',\n",
       "       'FERNAO Networks Holding GmbH', 'Google', 'Expedia Group',\n",
       "       'Cimpress/Vistaprint', 'Brunel', 'Swisscom (Schweiz) AG',\n",
       "       'Specialized Bicycle Components',\n",
       "       'Picotti Lab, Institute of Molecular Systems Biology',\n",
       "       'Global Ecosystem Ecology', 'Ente Ospedaliero Cantonale',\n",
       "       'Siemens Schweiz AG, Smart Infrastructure, Global Headquarters',\n",
       "       'Alec Allan & Associes SA', 'Medtronic',\n",
       "       'General Mills - Europe/Australasia', 'Imerys', 'ESGroup AG',\n",
       "       'ALTOGEN', 'IDEAS emplois', 'W Management International Ltd',\n",
       "       'Diadeis: Switzerland', 'UCB S.A.',\n",
       "       'Responsive Biomedical Systems Lab',\n",
       "       'Faculty of Science and Medicine, University of Fribourg',\n",
       "       'MZ Personalberatung', 'Ypsomed', 'Compass Associates',\n",
       "       'Swiss Life', 'accès personnel', 'SRZ Gastro GmbH',\n",
       "       'Guided Solutions', 'Power Integrations',\n",
       "       'Ecole polytechnique fédérale de Lausanne (EPFL)',\n",
       "       'Work Selection', 'Cabot Corporation',\n",
       "       'Ospedale Regionale di Lugano', 'FireEye, Inc.', 'ILKAWORK SA',\n",
       "       'D-BAUG / IFU', 'INDEX-Werke GmbH & Co. KG Hahn & Tessky',\n",
       "       'AO Foundation', 'Telecom26 AG', 'GaleniCare Management',\n",
       "       'Anuta Networks', 'Alexion Pharmaceuticals,Inc.',\n",
       "       'JSAN Consulting Ltd', 'Triplan Ingenieur AG', 'ams', 'Olmero',\n",
       "       'AbbVie', 'ViaSat', 'Cytiva', 'Web 3.0 Technologies Foundation',\n",
       "       'Atos', 'BRINE', 'REGENHU', 'Sentinel', 'Ericsson',\n",
       "       'Tiffany & Co.', 'Lykke Business AG', 'drinking water',\n",
       "       'oceanography', 'propulsion', 'rubber', 'hazardous materials',\n",
       "       'coatings', 'supply chain', 'moisture sensors', 'fermentation',\n",
       "       'drying', 'stone', 'bioprocesses', 'downstream processing',\n",
       "       'air transport', 'statistical analysis', 'security',\n",
       "       'microbiology', 'metals and alloys', 'semiconductors',\n",
       "       'synthetic biology', 'protein engineering', 'measurement devices',\n",
       "       'veterinary medicine', 'emergency medicine', 'energy management',\n",
       "       'adsorption', 'serious games', 'computer hardware', 'surgery',\n",
       "       'turbines', 'machine tools', 'crop production', 'extraction',\n",
       "       'biostatistics, epidemiology', 'computer software',\n",
       "       'medical research', 'aircraft', 'vacuum', 'other processes',\n",
       "       'transmission systems', 'bioinformatics', 'radiation protection',\n",
       "       'distillation', 'diseases', 'radar', 'mathematical modelling',\n",
       "       'adhesives', 'biosensor', 'extrusion', 'flexography',\n",
       "       'maintenance management system', 'ecology', 'internet of things',\n",
       "       'building materials', 'biodiversity', 'analytical chemistry',\n",
       "       'natural disasters', 'acoustics', 'toxicology', 'simulation',\n",
       "       'quality standards', 'technical standards',\n",
       "       'quality management system', 'algorithms and complexity',\n",
       "       'engineering', 'organic chemistry', 'molecular design',\n",
       "       'logistics', 'food technology', 'artificial intelligence (ai)',\n",
       "       'food processing', 'signal processing', 'microengineering',\n",
       "       'population genetics', 'cloud technologies', 'railway vehicles',\n",
       "       'road vehicles', 'pharmaceutics', 'industrial water treatment',\n",
       "       'helicopter', 'assessment of risk', 'physiology',\n",
       "       'composite materials', 'laboratory equipment', 'civil engineering',\n",
       "       'optics', 'hydropower', 'inorganic chemistry', '3d printing',\n",
       "       'glass', 'e-learning', 'process automation'], dtype=object)"
      ]
     },
     "execution_count": 7,
     "metadata": {},
     "output_type": "execute_result"
    }
   ],
   "source": [
    "names"
   ]
  },
  {
   "cell_type": "code",
   "execution_count": 8,
   "metadata": {},
   "outputs": [],
   "source": [
    "from model import QueryMachine"
   ]
  },
  {
   "cell_type": "code",
   "execution_count": 9,
   "metadata": {},
   "outputs": [],
   "source": [
    "query_machine = QueryMachine(embeddings, names, types)"
   ]
  },
  {
   "cell_type": "code",
   "execution_count": 10,
   "metadata": {},
   "outputs": [
    {
     "data": {
      "text/plain": [
       "array(['stone', 'surgery', 'statistical analysis', 'engineering',\n",
       "       'ecology', 'bioinformatics', 'hazardous materials',\n",
       "       'process automation', 'physiology', 'organic chemistry'],\n",
       "      dtype=object)"
      ]
     },
     "execution_count": 10,
     "metadata": {},
     "output_type": "execute_result"
    }
   ],
   "source": [
    "query_machine.search('company', 'University of Lausanne','keyword')"
   ]
  },
  {
   "cell_type": "code",
   "execution_count": null,
   "metadata": {},
   "outputs": [],
   "source": []
  }
 ],
 "metadata": {
  "kernelspec": {
   "display_name": "Python 3",
   "language": "python",
   "name": "python3"
  },
  "language_info": {
   "codemirror_mode": {
    "name": "ipython",
    "version": 3
   },
   "file_extension": ".py",
   "mimetype": "text/x-python",
   "name": "python",
   "nbconvert_exporter": "python",
   "pygments_lexer": "ipython3",
   "version": "3.6.9"
  }
 },
 "nbformat": 4,
 "nbformat_minor": 2
}
